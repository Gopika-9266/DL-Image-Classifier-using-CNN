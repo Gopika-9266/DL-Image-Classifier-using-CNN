{
  "nbformat": 4,
  "nbformat_minor": 0,
  "metadata": {
    "colab": {
      "provenance": []
    },
    "kernelspec": {
      "name": "python3",
      "display_name": "Python 3"
    },
    "language_info": {
      "name": "python"
    }
  },
  "cells": [
    {
      "cell_type": "code",
      "execution_count": 1,
      "metadata": {
        "id": "HEv-FgTmQLSO"
      },
      "outputs": [],
      "source": [
        "import torch\n",
        "import torch.nn as nn\n",
        "import torch.optim as optim\n",
        "import torchvision\n",
        "import torchvision.transforms as transforms\n",
        "from torch.utils.data import DataLoader\n",
        "import matplotlib.pyplot as plt\n",
        "import numpy as np\n",
        "from sklearn.metrics import confusion_matrix, classification_report\n",
        "import seaborn as sns"
      ]
    },
    {
      "cell_type": "code",
      "source": [
        "## Step 1: Load and Preprocess Data\n",
        "# Define transformations for images\n",
        "transform = transforms.Compose([\n",
        "    transforms.ToTensor(),          # Convert images to tensors\n",
        "    transforms.Normalize((0.5,), (0.5,))  # Normalize images\n",
        "])"
      ],
      "metadata": {
        "id": "sWdMI3GSQaAs"
      },
      "execution_count": 2,
      "outputs": []
    },
    {
      "cell_type": "code",
      "source": [
        "# Load MNIST dataset\n",
        "train_dataset = torchvision.datasets.MNIST(root=\"./data\", train=True, transform=transform, download=True)\n",
        "test_dataset = torchvision.datasets.MNIST(root=\"./data\", train=False, transform=transform, download=True)"
      ],
      "metadata": {
        "colab": {
          "base_uri": "https://localhost:8080/"
        },
        "id": "QQMUfJycQbW3",
        "outputId": "14815a34-0da1-4d79-e0f7-533d81137ba0"
      },
      "execution_count": 3,
      "outputs": [
        {
          "output_type": "stream",
          "name": "stderr",
          "text": [
            "100%|██████████| 9.91M/9.91M [00:00<00:00, 44.5MB/s]\n",
            "100%|██████████| 28.9k/28.9k [00:00<00:00, 1.09MB/s]\n",
            "100%|██████████| 1.65M/1.65M [00:00<00:00, 12.0MB/s]\n",
            "100%|██████████| 4.54k/4.54k [00:00<00:00, 1.24MB/s]\n"
          ]
        }
      ]
    },
    {
      "cell_type": "code",
      "source": [
        "# Get the shape of the first image in the training dataset\n",
        "image, label = train_dataset[0]\n",
        "print(\"Image shape:\", image.shape)\n",
        "print(\"Number of training samples:\", len(train_dataset))"
      ],
      "metadata": {
        "colab": {
          "base_uri": "https://localhost:8080/"
        },
        "id": "JL8SSuHDQc73",
        "outputId": "8e59bc80-b5d3-4d1b-bcc0-aff3d4796fac"
      },
      "execution_count": 5,
      "outputs": [
        {
          "output_type": "stream",
          "name": "stdout",
          "text": [
            "Image shape: torch.Size([1, 28, 28])\n",
            "Number of training samples: 60000\n"
          ]
        }
      ]
    },
    {
      "cell_type": "code",
      "source": [
        "# Get the shape of the first image in the test dataset\n",
        "image, label = test_dataset[0]\n",
        "print(\"Image shape:\", image.shape)\n",
        "print(\"Number of testing samples:\", len(test_dataset))"
      ],
      "metadata": {
        "colab": {
          "base_uri": "https://localhost:8080/"
        },
        "id": "msoZC6h5Qeer",
        "outputId": "9fe74c21-a1ea-4a41-ce16-10733f2db24b"
      },
      "execution_count": 7,
      "outputs": [
        {
          "output_type": "stream",
          "name": "stdout",
          "text": [
            "Image shape: torch.Size([1, 28, 28])\n",
            "Number of testing samples: 10000\n"
          ]
        }
      ]
    },
    {
      "cell_type": "code",
      "source": [
        "# Create DataLoader for batch processing\n",
        "train_loader = DataLoader(train_dataset, batch_size=32, shuffle=True)\n",
        "test_loader = DataLoader(test_dataset, batch_size=32, shuffle=False)"
      ],
      "metadata": {
        "id": "buuCU04FQgOS"
      },
      "execution_count": 9,
      "outputs": []
    },
    {
      "cell_type": "code",
      "source": [
        "class CNNClassifier(nn.Module):\n",
        "    def __init__(self):\n",
        "        super(CNNClassifier, self).__init__()\n",
        "        # write your code here\n",
        "        self.conv1 = nn.Conv2d(1, 32, kernel_size=3, padding=1)\n",
        "        self.pool = nn.MaxPool2d(2, 2)\n",
        "        self.conv2 = nn.Conv2d(32, 64, kernel_size=3, padding=1)\n",
        "        self.fc1 = nn.Linear(64 * 7 * 7, 128)\n",
        "        self.fc2 = nn.Linear(128, 10)\n",
        "        self.relu = nn.ReLU()\n",
        "        self.dropout = nn.Dropout(0.25)\n",
        "\n",
        "    def forward(self, x):\n",
        "        # write your code here\n",
        "        x = self.pool(self.relu(self.conv1(x)))\n",
        "        x = self.pool(self.relu(self.conv2(x)))\n",
        "        x = x.view(-1, 64 * 7 * 7)\n",
        "        x = self.dropout(self.relu(self.fc1(x)))\n",
        "        x = self.fc2(x)\n",
        "\n",
        "        return x"
      ],
      "metadata": {
        "id": "DAPslP1yQk4g"
      },
      "execution_count": 10,
      "outputs": []
    },
    {
      "cell_type": "code",
      "source": [
        "from torchsummary import summary\n",
        "\n",
        "# Initialize model\n",
        "model = CNNClassifier()\n",
        "\n",
        "# Move model to GPU if available\n",
        "if torch.cuda.is_available():\n",
        "    device = torch.device(\"cuda\")\n",
        "    model.to(device)\n",
        "\n",
        "# Print model summary\n",
        "summary(model, input_size=(1, 28, 28))"
      ],
      "metadata": {
        "colab": {
          "base_uri": "https://localhost:8080/"
        },
        "id": "mCgi518UQnZK",
        "outputId": "23d95553-07bf-4c6b-e589-4b81e28a02e8"
      },
      "execution_count": 11,
      "outputs": [
        {
          "output_type": "stream",
          "name": "stdout",
          "text": [
            "----------------------------------------------------------------\n",
            "        Layer (type)               Output Shape         Param #\n",
            "================================================================\n",
            "            Conv2d-1           [-1, 32, 28, 28]             320\n",
            "              ReLU-2           [-1, 32, 28, 28]               0\n",
            "         MaxPool2d-3           [-1, 32, 14, 14]               0\n",
            "            Conv2d-4           [-1, 64, 14, 14]          18,496\n",
            "              ReLU-5           [-1, 64, 14, 14]               0\n",
            "         MaxPool2d-6             [-1, 64, 7, 7]               0\n",
            "            Linear-7                  [-1, 128]         401,536\n",
            "              ReLU-8                  [-1, 128]               0\n",
            "           Dropout-9                  [-1, 128]               0\n",
            "           Linear-10                   [-1, 10]           1,290\n",
            "================================================================\n",
            "Total params: 421,642\n",
            "Trainable params: 421,642\n",
            "Non-trainable params: 0\n",
            "----------------------------------------------------------------\n",
            "Input size (MB): 0.00\n",
            "Forward/backward pass size (MB): 0.65\n",
            "Params size (MB): 1.61\n",
            "Estimated Total Size (MB): 2.26\n",
            "----------------------------------------------------------------\n"
          ]
        }
      ]
    },
    {
      "cell_type": "code",
      "source": [
        "# Initialize model, loss function, and optimizer\n",
        "\n",
        "criterion = nn.CrossEntropyLoss()\n",
        "optimizer = optim.Adam(model.parameters(), lr=0.001)"
      ],
      "metadata": {
        "id": "nFatMwgjQpbM"
      },
      "execution_count": 12,
      "outputs": []
    },
    {
      "cell_type": "code",
      "source": [
        "## Step 3: Train the Model\n",
        "def train_model(model, train_loader, device, num_epochs=3): # Add device as an argument\n",
        "    model.train()\n",
        "\n",
        "    # write your code here\n",
        "    for epoch in range(num_epochs):\n",
        "        running_loss = 0.0\n",
        "        for images, labels in train_loader:\n",
        "            images, labels = images.to(device), labels.to(device)\n",
        "\n",
        "            optimizer.zero_grad()\n",
        "            outputs = model(images)\n",
        "            loss = criterion(outputs, labels)\n",
        "            loss.backward()\n",
        "            optimizer.step()\n",
        "\n",
        "            running_loss += loss.item()\n",
        "\n",
        "        print(f'Epoch [{epoch+1}/{num_epochs}], Loss: {running_loss/len(train_loader):.4f}')\n",
        "\n",
        "# Initialize model\n",
        "model = CNNClassifier()\n",
        "\n",
        "# Move model to GPU if available, otherwise use CPU\n",
        "if torch.cuda.is_available():\n",
        "    device = torch.device(\"cuda\")\n",
        "    model.to(device)\n",
        "else:\n",
        "    device = torch.device(\"cpu\") # Define device as cpu if cuda is not available\n",
        "    model.to(device)\n",
        "\n",
        "\n",
        "train_model(model, train_loader, device, num_epochs=10) # Pass device when calling the function"
      ],
      "metadata": {
        "colab": {
          "base_uri": "https://localhost:8080/"
        },
        "id": "X8EN-IxWQqn7",
        "outputId": "02a133b3-50bf-47c3-9e88-ff6fd8090e24"
      },
      "execution_count": 15,
      "outputs": [
        {
          "output_type": "stream",
          "name": "stdout",
          "text": [
            "Epoch [1/10], Loss: 2.3065\n",
            "Epoch [2/10], Loss: 2.3061\n",
            "Epoch [3/10], Loss: 2.3061\n",
            "Epoch [4/10], Loss: 2.3063\n",
            "Epoch [5/10], Loss: 2.3064\n",
            "Epoch [6/10], Loss: 2.3065\n",
            "Epoch [7/10], Loss: 2.3067\n",
            "Epoch [8/10], Loss: 2.3063\n",
            "Epoch [9/10], Loss: 2.3064\n",
            "Epoch [10/10], Loss: 2.3066\n"
          ]
        }
      ]
    },
    {
      "cell_type": "code",
      "source": [
        "## Step 4: Test the Model\n",
        "\n",
        "def test_model(model, test_loader):\n",
        "    model.eval()\n",
        "    correct = 0\n",
        "    total = 0\n",
        "    all_preds = []\n",
        "    all_labels = []\n",
        "\n",
        "    with torch.no_grad():\n",
        "        for images, labels in test_loader:\n",
        "            if torch.cuda.is_available():\n",
        "                images, labels = images.to(device), labels.to(device)\n",
        "\n",
        "            outputs = model(images)\n",
        "            _, predicted = torch.max(outputs, 1)\n",
        "            total += labels.size(0)\n",
        "            correct += (predicted == labels).sum().item()\n",
        "            all_preds.extend(predicted.cpu().numpy())\n",
        "            all_labels.extend(labels.cpu().numpy())\n",
        "\n",
        "    accuracy = correct / total\n",
        "\n",
        "    print(f'Test Accuracy: {accuracy:.4f}')\n",
        "    # Compute confusion matrix\n",
        "    cm = confusion_matrix(all_labels, all_preds)\n",
        "    plt.figure(figsize=(8, 6))\n",
        "    sns.heatmap(cm, annot=True, fmt='d', cmap='Blues', xticklabels=test_dataset.classes, yticklabels=test_dataset.classes)\n",
        "    plt.xlabel('Predicted')\n",
        "    plt.ylabel('Actual')\n",
        "    plt.title('Confusion Matrix')\n",
        "    plt.show()\n",
        "    # Print classification report\n",
        "    print(\"Classification Report:\")\n",
        "    print(classification_report(all_labels, all_preds, target_names=[str(i) for i in range(10)]))"
      ],
      "metadata": {
        "id": "JnM6XbZQQsg1"
      },
      "execution_count": 16,
      "outputs": []
    },
    {
      "cell_type": "code",
      "source": [
        "# Evaluate the model\n",
        "test_model(model, test_loader)"
      ],
      "metadata": {
        "colab": {
          "base_uri": "https://localhost:8080/",
          "height": 1000
        },
        "id": "FQd5kIDDQuw4",
        "outputId": "b5c89642-8d44-44a7-dc75-bb4c3509226f"
      },
      "execution_count": 17,
      "outputs": [
        {
          "output_type": "stream",
          "name": "stdout",
          "text": [
            "Test Accuracy: 0.0959\n"
          ]
        },
        {
          "output_type": "display_data",
          "data": {
            "text/plain": [
              "<Figure size 800x600 with 2 Axes>"
            ],
            "image/png": "[encoded data removed]"
          },
          "metadata": {}
        },
        {
          "output_type": "stream",
          "name": "stdout",
          "text": [
            "Classification Report:\n",
            "              precision    recall  f1-score   support\n",
            "\n",
            "           0       0.00      0.00      0.00       980\n",
            "           1       0.00      0.00      0.00      1135\n",
            "           2       0.00      0.00      0.00      1032\n",
            "           3       0.00      0.00      0.00      1010\n",
            "           4       0.00      0.00      0.00       982\n",
            "           5       0.00      0.00      0.00       892\n",
            "           6       0.10      1.00      0.18       958\n",
            "           7       0.00      0.00      0.00      1028\n",
            "           8       0.25      0.00      0.00       974\n",
            "           9       0.00      0.00      0.00      1009\n",
            "\n",
            "    accuracy                           0.10     10000\n",
            "   macro avg       0.03      0.10      0.02     10000\n",
            "weighted avg       0.03      0.10      0.02     10000\n",
            "\n"
          ]
        },
        {
          "output_type": "stream",
          "name": "stderr",
          "text": [
            "/usr/local/lib/python3.11/dist-packages/sklearn/metrics/_classification.py:1565: UndefinedMetricWarning: Precision is ill-defined and being set to 0.0 in labels with no predicted samples. Use `zero_division` parameter to control this behavior.\n",
            "  _warn_prf(average, modifier, f\"{metric.capitalize()} is\", len(result))\n",
            "/usr/local/lib/python3.11/dist-packages/sklearn/metrics/_classification.py:1565: UndefinedMetricWarning: Precision is ill-defined and being set to 0.0 in labels with no predicted samples. Use `zero_division` parameter to control this behavior.\n",
            "  _warn_prf(average, modifier, f\"{metric.capitalize()} is\", len(result))\n",
            "/usr/local/lib/python3.11/dist-packages/sklearn/metrics/_classification.py:1565: UndefinedMetricWarning: Precision is ill-defined and being set to 0.0 in labels with no predicted samples. Use `zero_division` parameter to control this behavior.\n",
            "  _warn_prf(average, modifier, f\"{metric.capitalize()} is\", len(result))\n"
          ]
        }
      ]
    },
    {
      "cell_type": "code",
      "source": [
        "## Step 5: Predict on a Single Image\n",
        "def predict_image(model, image_index, dataset):\n",
        "    model.eval()\n",
        "    image, label = dataset[image_index]\n",
        "    if torch.cuda.is_available():\n",
        "        image = image.to(device)\n",
        "\n",
        "    with torch.no_grad():\n",
        "        output = model(image.unsqueeze(0))\n",
        "        _, predicted = torch.max(output, 1)\n",
        "\n",
        "    class_names = [str(i) for i in range(10)]\n",
        "\n",
        "    plt.figure(figsize=(5, 5))\n",
        "    plt.imshow(image.cpu().squeeze(), cmap=\"gray\")\n",
        "    plt.title(f'Actual: {class_names[label]}\\nPredicted: {class_names[predicted.item()]}')\n",
        "    plt.axis(\"off\")\n",
        "    plt.show()\n",
        "    print(f'Actual: {class_names[label]}, Predicted: {class_names[predicted.item()]}')"
      ],
      "metadata": {
        "id": "rX3LCKqwQwHg"
      },
      "execution_count": 18,
      "outputs": []
    },
    {
      "cell_type": "code",
      "source": [
        "# Example Prediction\n",
        "predict_image(model, image_index=80, dataset=test_dataset)"
      ],
      "metadata": {
        "colab": {
          "base_uri": "https://localhost:8080/",
          "height": 482
        },
        "id": "27fBSPQ6QyCN",
        "outputId": "a18e13db-e394-47b4-e07c-3871063b3160"
      },
      "execution_count": 19,
      "outputs": [
        {
          "output_type": "display_data",
          "data": {
            "text/plain": [
              "<Figure size 500x500 with 1 Axes>"
            ],
            "image/png": "[encoded data removed]"
          },
          "metadata": {}
        },
        {
          "output_type": "stream",
          "name": "stdout",
          "text": [
            "Actual: 7, Predicted: 6\n"
          ]
        }
      ]
    }
  ]
}